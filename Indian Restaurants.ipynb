{
 "cells": [
  {
   "cell_type": "markdown",
   "metadata": {},
   "source": [
    "## Problem : To find which place in \"102 North End Ave in Newyork\" or \" Murray Street Newyork\" is best to start New Indian Restaurant Business"
   ]
  },
  {
   "cell_type": "markdown",
   "metadata": {
    "button": false,
    "new_sheet": false,
    "run_control": {
     "read_only": false
    }
   },
   "source": [
    "   "
   ]
  },
  {
   "cell_type": "markdown",
   "metadata": {
    "button": false,
    "new_sheet": false,
    "run_control": {
     "read_only": false
    }
   },
   "source": [
    "### Import necessary Libraries"
   ]
  },
  {
   "cell_type": "code",
   "execution_count": 4,
   "metadata": {
    "button": false,
    "collapsed": false,
    "new_sheet": false,
    "run_control": {
     "read_only": false
    }
   },
   "outputs": [
    {
     "name": "stdout",
     "output_type": "stream",
     "text": [
      "Collecting package metadata: done\n",
      "Solving environment: \\ \n",
      "The environment is inconsistent, please check the package plan carefully\n",
      "The following packages are causing the inconsistency:\n",
      "\n",
      "  - defaults/linux-64::anaconda==5.3.1=py37_0\n",
      "  - defaults/linux-64::astropy==3.0.4=py37h14c3975_0\n",
      "  - defaults/linux-64::bkcharts==0.2=py37_0\n",
      "  - defaults/linux-64::blaze==0.11.3=py37_0\n",
      "  - defaults/linux-64::bokeh==0.13.0=py37_0\n",
      "  - defaults/linux-64::bottleneck==1.2.1=py37h035aef0_1\n",
      "  - defaults/linux-64::dask==0.19.1=py37_0\n",
      "  - defaults/linux-64::datashape==0.5.4=py37_1\n",
      "  - defaults/linux-64::mkl-service==1.1.2=py37h90e4bf4_5\n",
      "  - defaults/linux-64::numba==0.39.0=py37h04863e7_0\n",
      "  - defaults/linux-64::numexpr==2.6.8=py37hd89afb7_0\n",
      "  - defaults/linux-64::odo==0.5.1=py37_0\n",
      "  - defaults/linux-64::pytables==3.4.4=py37ha205bf6_0\n",
      "  - defaults/linux-64::pytest-arraydiff==0.2=py37h39e3cac_0\n",
      "  - defaults/linux-64::pytest-astropy==0.4.0=py37_0\n",
      "  - defaults/linux-64::pytest-doctestplus==0.1.3=py37_0\n",
      "  - defaults/linux-64::pywavelets==1.0.0=py37hdd07704_0\n",
      "  - defaults/linux-64::scikit-image==0.14.0=py37hf484d3e_1\n",
      "done\n",
      "\n",
      "# All requested packages already installed.\n",
      "\n",
      "Collecting package metadata: done\n",
      "Solving environment: - \n",
      "The environment is inconsistent, please check the package plan carefully\n",
      "The following packages are causing the inconsistency:\n",
      "\n",
      "  - defaults/linux-64::anaconda==5.3.1=py37_0\n",
      "  - defaults/linux-64::astropy==3.0.4=py37h14c3975_0\n",
      "  - defaults/linux-64::bkcharts==0.2=py37_0\n",
      "  - defaults/linux-64::blaze==0.11.3=py37_0\n",
      "  - defaults/linux-64::bokeh==0.13.0=py37_0\n",
      "  - defaults/linux-64::bottleneck==1.2.1=py37h035aef0_1\n",
      "  - defaults/linux-64::dask==0.19.1=py37_0\n",
      "  - defaults/linux-64::datashape==0.5.4=py37_1\n",
      "  - defaults/linux-64::mkl-service==1.1.2=py37h90e4bf4_5\n",
      "  - defaults/linux-64::numba==0.39.0=py37h04863e7_0\n",
      "  - defaults/linux-64::numexpr==2.6.8=py37hd89afb7_0\n",
      "  - defaults/linux-64::odo==0.5.1=py37_0\n",
      "  - defaults/linux-64::pytables==3.4.4=py37ha205bf6_0\n",
      "  - defaults/linux-64::pytest-arraydiff==0.2=py37h39e3cac_0\n",
      "  - defaults/linux-64::pytest-astropy==0.4.0=py37_0\n",
      "  - defaults/linux-64::pytest-doctestplus==0.1.3=py37_0\n",
      "  - defaults/linux-64::pywavelets==1.0.0=py37hdd07704_0\n",
      "  - defaults/linux-64::scikit-image==0.14.0=py37hf484d3e_1\n",
      "done\n",
      "\n",
      "# All requested packages already installed.\n",
      "\n",
      "Folium installed\n",
      "Libraries imported.\n"
     ]
    }
   ],
   "source": [
    "import requests # library to handle requests\n",
    "import pandas as pd # library for data analsysis\n",
    "import numpy as np # library to handle data in a vectorized manner\n",
    "import random # library for random number generation\n",
    "\n",
    "!conda install -c conda-forge geopy --yes \n",
    "from geopy.geocoders import Nominatim # module to convert an address into latitude and longitude values\n",
    "\n",
    "# libraries for displaying images\n",
    "from IPython.display import Image \n",
    "from IPython.core.display import HTML \n",
    "    \n",
    "# tranforming json file into a pandas dataframe library\n",
    "from pandas.io.json import json_normalize\n",
    "\n",
    "!conda install -c conda-forge folium=0.5.0 --yes\n",
    "import folium # plotting library\n",
    "\n",
    "print('Folium installed')\n",
    "print('Libraries imported.')"
   ]
  },
  {
   "cell_type": "markdown",
   "metadata": {
    "button": false,
    "new_sheet": false,
    "run_control": {
     "read_only": false
    }
   },
   "source": [
    "### Define Foursquare Credentials and Version"
   ]
  },
  {
   "cell_type": "markdown",
   "metadata": {
    "button": false,
    "new_sheet": false,
    "run_control": {
     "read_only": false
    }
   },
   "source": [
    "##### Make sure that you have created a Foursquare developer account and have your credentials handy"
   ]
  },
  {
   "cell_type": "code",
   "execution_count": 5,
   "metadata": {
    "button": false,
    "collapsed": false,
    "new_sheet": false,
    "run_control": {
     "read_only": false
    }
   },
   "outputs": [
    {
     "name": "stdout",
     "output_type": "stream",
     "text": [
      "Your credentails:\n",
      "CLIENT_ID: 14ROLS0MZNF0JCKJ1EJ3VGK0UBDFQRXWW11XFQKIJKS0MY3A\n",
      "CLIENT_SECRET:UI4DUEAV0BHYMWFYNOIDQ1XYOPITSA0IC5AEGBPYH34VKK1Z\n"
     ]
    }
   ],
   "source": [
    "CLIENT_ID = '14ROLS0MZNF0JCKJ1EJ3VGK0UBDFQRXWW11XFQKIJKS0MY3A' # your Foursquare ID\n",
    "CLIENT_SECRET = 'UI4DUEAV0BHYMWFYNOIDQ1XYOPITSA0IC5AEGBPYH34VKK1Z' # your Foursquare Secret\n",
    "VERSION = '20180604'\n",
    "LIMIT = 30\n",
    "print('Your credentails:')\n",
    "print('CLIENT_ID: ' + CLIENT_ID)\n",
    "print('CLIENT_SECRET:' + CLIENT_SECRET)"
   ]
  },
  {
   "cell_type": "markdown",
   "metadata": {
    "button": false,
    "new_sheet": false,
    "run_control": {
     "read_only": false
    }
   },
   "source": [
    "  "
   ]
  },
  {
   "cell_type": "markdown",
   "metadata": {
    "button": false,
    "new_sheet": false,
    "run_control": {
     "read_only": false
    }
   },
   "source": [
    "#### Getting Lat Longs of '102 North End Ave, New York, NY' where we desire to search for existing indian hotels"
   ]
  },
  {
   "cell_type": "markdown",
   "metadata": {},
   "source": [
    "In order to define an instance of the geocoder, we need to define a user_agent. We will name our agent <em>foursquare_agent</em>, as shown below."
   ]
  },
  {
   "cell_type": "code",
   "execution_count": 6,
   "metadata": {
    "button": false,
    "collapsed": false,
    "new_sheet": false,
    "run_control": {
     "read_only": false
    }
   },
   "outputs": [
    {
     "name": "stdout",
     "output_type": "stream",
     "text": [
      "40.7149555 -74.0153365\n"
     ]
    }
   ],
   "source": [
    "address = '102 North End Ave, New York, NY'\n",
    "\n",
    "geolocator = Nominatim(user_agent=\"foursquare_agent\")\n",
    "location = geolocator.geocode(address)\n",
    "latitude = location.latitude\n",
    "longitude = location.longitude\n",
    "print(latitude, longitude)"
   ]
  },
  {
   "cell_type": "markdown",
   "metadata": {
    "button": false,
    "new_sheet": false,
    "run_control": {
     "read_only": false
    }
   },
   "source": [
    "   "
   ]
  },
  {
   "cell_type": "markdown",
   "metadata": {
    "button": false,
    "new_sheet": false,
    "run_control": {
     "read_only": false
    }
   },
   "source": [
    "<a id=\"item1\"></a>"
   ]
  },
  {
   "cell_type": "markdown",
   "metadata": {
    "button": false,
    "new_sheet": false,
    "run_control": {
     "read_only": false
    }
   },
   "source": [
    "## 1. Search for a specific venue category\n",
    "> `https://api.foursquare.com/v2/venues/`**search**`?client_id=`**CLIENT_ID**`&client_secret=`**CLIENT_SECRET**`&ll=`**LATITUDE**`,`**LONGITUDE**`&v=`**VERSION**`&query=`**QUERY**`&radius=`**RADIUS**`&limit=`**LIMIT**"
   ]
  },
  {
   "cell_type": "markdown",
   "metadata": {
    "button": false,
    "new_sheet": false,
    "run_control": {
     "read_only": false
    }
   },
   "source": [
    "#### let's define a query to search for Indian Restaurents that is within 500 metres from the 102 North End Ave, New York, NY. "
   ]
  },
  {
   "cell_type": "code",
   "execution_count": 7,
   "metadata": {
    "button": false,
    "collapsed": false,
    "new_sheet": false,
    "run_control": {
     "read_only": false
    },
    "scrolled": true
   },
   "outputs": [
    {
     "name": "stdout",
     "output_type": "stream",
     "text": [
      "Indian .... OK!\n"
     ]
    }
   ],
   "source": [
    "search_query = 'Indian'\n",
    "radius = 500\n",
    "print(search_query + ' .... OK!')"
   ]
  },
  {
   "cell_type": "markdown",
   "metadata": {
    "button": false,
    "new_sheet": false,
    "run_control": {
     "read_only": false
    }
   },
   "source": [
    "#### Define the corresponding URL"
   ]
  },
  {
   "cell_type": "code",
   "execution_count": 8,
   "metadata": {
    "button": false,
    "collapsed": false,
    "new_sheet": false,
    "run_control": {
     "read_only": false
    }
   },
   "outputs": [
    {
     "data": {
      "text/plain": [
       "'https://api.foursquare.com/v2/venues/search?client_id=14ROLS0MZNF0JCKJ1EJ3VGK0UBDFQRXWW11XFQKIJKS0MY3A&client_secret=UI4DUEAV0BHYMWFYNOIDQ1XYOPITSA0IC5AEGBPYH34VKK1Z&ll=40.7149555,-74.0153365&v=20180604&query=Indian&radius=500&limit=30'"
      ]
     },
     "execution_count": 8,
     "metadata": {},
     "output_type": "execute_result"
    }
   ],
   "source": [
    "url = 'https://api.foursquare.com/v2/venues/search?client_id={}&client_secret={}&ll={},{}&v={}&query={}&radius={}&limit={}'.format(CLIENT_ID, CLIENT_SECRET, latitude, longitude, VERSION, search_query, radius, LIMIT)\n",
    "url"
   ]
  },
  {
   "cell_type": "markdown",
   "metadata": {
    "button": false,
    "new_sheet": false,
    "run_control": {
     "read_only": false
    }
   },
   "source": [
    "#### Send the GET Request and examine the results"
   ]
  },
  {
   "cell_type": "code",
   "execution_count": 9,
   "metadata": {
    "button": false,
    "collapsed": false,
    "new_sheet": false,
    "run_control": {
     "read_only": false
    },
    "scrolled": true
   },
   "outputs": [
    {
     "data": {
      "text/plain": [
       "{'meta': {'code': 200, 'requestId': '5cd50ee5db04f559d5936b67'},\n",
       " 'response': {'venues': [{'id': '5072fe2eb0ed0fcce2497f30',\n",
       "    'name': 'Indian Biryani Delights (Cart)',\n",
       "    'location': {'address': 'Water St',\n",
       "     'crossStreet': 'btwn Maiden Lane & Pine St',\n",
       "     'lat': 40.71441853663672,\n",
       "     'lng': -74.01157314448908,\n",
       "     'labeledLatLngs': [{'label': 'display',\n",
       "       'lat': 40.71441853663672,\n",
       "       'lng': -74.01157314448908}],\n",
       "     'distance': 323,\n",
       "     'postalCode': '10005',\n",
       "     'cc': 'US',\n",
       "     'city': 'New York',\n",
       "     'state': 'NY',\n",
       "     'country': 'United States',\n",
       "     'formattedAddress': ['Water St (btwn Maiden Lane & Pine St)',\n",
       "      'New York, NY 10005',\n",
       "      'United States']},\n",
       "    'categories': [{'id': '4bf58dd8d48988d1cb941735',\n",
       "      'name': 'Food Truck',\n",
       "      'pluralName': 'Food Trucks',\n",
       "      'shortName': 'Food Truck',\n",
       "      'icon': {'prefix': 'https://ss3.4sqi.net/img/categories_v2/food/streetfood_',\n",
       "       'suffix': '.png'},\n",
       "      'primary': True}],\n",
       "    'referralId': 'v-1557466853',\n",
       "    'hasPerk': False},\n",
       "   {'id': '4b12cb6ff964a5204a8e23e3',\n",
       "    'name': 'Ruchi Indian Cuisine',\n",
       "    'location': {'address': '120 Cedar St',\n",
       "     'crossStreet': 'btwn Greenwich St. & Trinity Pl.',\n",
       "     'lat': 40.70996196046026,\n",
       "     'lng': -74.01296935042234,\n",
       "     'labeledLatLngs': [{'label': 'display',\n",
       "       'lat': 40.70996196046026,\n",
       "       'lng': -74.01296935042234}],\n",
       "     'distance': 590,\n",
       "     'postalCode': '10006',\n",
       "     'cc': 'US',\n",
       "     'city': 'New York',\n",
       "     'state': 'NY',\n",
       "     'country': 'United States',\n",
       "     'formattedAddress': ['120 Cedar St (btwn Greenwich St. & Trinity Pl.)',\n",
       "      'New York, NY 10006',\n",
       "      'United States']},\n",
       "    'categories': [{'id': '4bf58dd8d48988d10f941735',\n",
       "      'name': 'Indian Restaurant',\n",
       "      'pluralName': 'Indian Restaurants',\n",
       "      'shortName': 'Indian',\n",
       "      'icon': {'prefix': 'https://ss3.4sqi.net/img/categories_v2/food/indian_',\n",
       "       'suffix': '.png'},\n",
       "      'primary': True}],\n",
       "    'delivery': {'id': '79935',\n",
       "     'url': 'https://www.seamless.com/menu/ruchi-120-cedar-st-new-york/79935?affiliate=1131&utm_source=foursquare-affiliate-network&utm_medium=affiliate&utm_campaign=1131&utm_content=79935',\n",
       "     'provider': {'name': 'seamless',\n",
       "      'icon': {'prefix': 'https://fastly.4sqi.net/img/general/cap/',\n",
       "       'sizes': [40, 50],\n",
       "       'name': '/delivery_provider_seamless_20180129.png'}}},\n",
       "    'venuePage': {'id': '337710444'},\n",
       "    'referralId': 'v-1557466853',\n",
       "    'hasPerk': False},\n",
       "   {'id': '574eab2a498e3f5530cfdbca',\n",
       "    'name': 'Indian Beautiful Art (IBA) Crafts PVT Ltd',\n",
       "    'location': {'address': '100 Church St',\n",
       "     'lat': 40.71228057311295,\n",
       "     'lng': -74.01012897491455,\n",
       "     'labeledLatLngs': [{'label': 'display',\n",
       "       'lat': 40.71228057311295,\n",
       "       'lng': -74.01012897491455}],\n",
       "     'distance': 530,\n",
       "     'postalCode': '10007',\n",
       "     'cc': 'US',\n",
       "     'city': 'New York',\n",
       "     'state': 'NY',\n",
       "     'country': 'United States',\n",
       "     'formattedAddress': ['100 Church St',\n",
       "      'New York, NY 10007',\n",
       "      'United States']},\n",
       "    'categories': [{'id': '4bf58dd8d48988d103951735',\n",
       "      'name': 'Clothing Store',\n",
       "      'pluralName': 'Clothing Stores',\n",
       "      'shortName': 'Apparel',\n",
       "      'icon': {'prefix': 'https://ss3.4sqi.net/img/categories_v2/shops/apparel_',\n",
       "       'suffix': '.png'},\n",
       "      'primary': True}],\n",
       "    'referralId': 'v-1557466853',\n",
       "    'hasPerk': False},\n",
       "   {'id': '4aef32f7f964a52081d621e3',\n",
       "    'name': 'Salaam Bombay',\n",
       "    'location': {'address': '317 Greenwich St',\n",
       "     'crossStreet': 'Reade St',\n",
       "     'lat': 40.71695381665769,\n",
       "     'lng': -74.01090509661432,\n",
       "     'labeledLatLngs': [{'label': 'display',\n",
       "       'lat': 40.71695381665769,\n",
       "       'lng': -74.01090509661432}],\n",
       "     'distance': 435,\n",
       "     'postalCode': '10013',\n",
       "     'cc': 'US',\n",
       "     'city': 'New York',\n",
       "     'state': 'NY',\n",
       "     'country': 'United States',\n",
       "     'formattedAddress': ['317 Greenwich St (Reade St)',\n",
       "      'New York, NY 10013',\n",
       "      'United States']},\n",
       "    'categories': [{'id': '4bf58dd8d48988d10f941735',\n",
       "      'name': 'Indian Restaurant',\n",
       "      'pluralName': 'Indian Restaurants',\n",
       "      'shortName': 'Indian',\n",
       "      'icon': {'prefix': 'https://ss3.4sqi.net/img/categories_v2/food/indian_',\n",
       "       'suffix': '.png'},\n",
       "      'primary': True}],\n",
       "    'delivery': {'id': '26275',\n",
       "     'url': 'https://www.seamless.com/menu/salaam-bombay-319-greenwich-st-ste-1-new-york/26275?affiliate=1131&utm_source=foursquare-affiliate-network&utm_medium=affiliate&utm_campaign=1131&utm_content=26275',\n",
       "     'provider': {'name': 'seamless',\n",
       "      'icon': {'prefix': 'https://fastly.4sqi.net/img/general/cap/',\n",
       "       'sizes': [40, 50],\n",
       "       'name': '/delivery_provider_seamless_20180129.png'}}},\n",
       "    'venuePage': {'id': '71423083'},\n",
       "    'referralId': 'v-1557466853',\n",
       "    'hasPerk': False}]}}"
      ]
     },
     "execution_count": 9,
     "metadata": {},
     "output_type": "execute_result"
    }
   ],
   "source": [
    "results = requests.get(url).json()\n",
    "results"
   ]
  },
  {
   "cell_type": "markdown",
   "metadata": {
    "button": false,
    "new_sheet": false,
    "run_control": {
     "read_only": false
    }
   },
   "source": [
    "#### Get relevant part of JSON and transform it into a *pandas* dataframe"
   ]
  },
  {
   "cell_type": "code",
   "execution_count": 10,
   "metadata": {
    "button": false,
    "collapsed": false,
    "new_sheet": false,
    "run_control": {
     "read_only": false
    }
   },
   "outputs": [
    {
     "data": {
      "text/html": [
       "<div>\n",
       "<style scoped>\n",
       "    .dataframe tbody tr th:only-of-type {\n",
       "        vertical-align: middle;\n",
       "    }\n",
       "\n",
       "    .dataframe tbody tr th {\n",
       "        vertical-align: top;\n",
       "    }\n",
       "\n",
       "    .dataframe thead th {\n",
       "        text-align: right;\n",
       "    }\n",
       "</style>\n",
       "<table border=\"1\" class=\"dataframe\">\n",
       "  <thead>\n",
       "    <tr style=\"text-align: right;\">\n",
       "      <th></th>\n",
       "      <th>categories</th>\n",
       "      <th>delivery.id</th>\n",
       "      <th>delivery.provider.icon.name</th>\n",
       "      <th>delivery.provider.icon.prefix</th>\n",
       "      <th>delivery.provider.icon.sizes</th>\n",
       "      <th>delivery.provider.name</th>\n",
       "      <th>delivery.url</th>\n",
       "      <th>hasPerk</th>\n",
       "      <th>id</th>\n",
       "      <th>location.address</th>\n",
       "      <th>...</th>\n",
       "      <th>location.distance</th>\n",
       "      <th>location.formattedAddress</th>\n",
       "      <th>location.labeledLatLngs</th>\n",
       "      <th>location.lat</th>\n",
       "      <th>location.lng</th>\n",
       "      <th>location.postalCode</th>\n",
       "      <th>location.state</th>\n",
       "      <th>name</th>\n",
       "      <th>referralId</th>\n",
       "      <th>venuePage.id</th>\n",
       "    </tr>\n",
       "  </thead>\n",
       "  <tbody>\n",
       "    <tr>\n",
       "      <th>0</th>\n",
       "      <td>[{'id': '4bf58dd8d48988d1cb941735', 'name': 'F...</td>\n",
       "      <td>NaN</td>\n",
       "      <td>NaN</td>\n",
       "      <td>NaN</td>\n",
       "      <td>NaN</td>\n",
       "      <td>NaN</td>\n",
       "      <td>NaN</td>\n",
       "      <td>False</td>\n",
       "      <td>5072fe2eb0ed0fcce2497f30</td>\n",
       "      <td>Water St</td>\n",
       "      <td>...</td>\n",
       "      <td>323</td>\n",
       "      <td>[Water St (btwn Maiden Lane &amp; Pine St), New Yo...</td>\n",
       "      <td>[{'label': 'display', 'lat': 40.71441853663672...</td>\n",
       "      <td>40.714419</td>\n",
       "      <td>-74.011573</td>\n",
       "      <td>10005</td>\n",
       "      <td>NY</td>\n",
       "      <td>Indian Biryani Delights (Cart)</td>\n",
       "      <td>v-1557466853</td>\n",
       "      <td>NaN</td>\n",
       "    </tr>\n",
       "    <tr>\n",
       "      <th>1</th>\n",
       "      <td>[{'id': '4bf58dd8d48988d10f941735', 'name': 'I...</td>\n",
       "      <td>79935</td>\n",
       "      <td>/delivery_provider_seamless_20180129.png</td>\n",
       "      <td>https://fastly.4sqi.net/img/general/cap/</td>\n",
       "      <td>[40, 50]</td>\n",
       "      <td>seamless</td>\n",
       "      <td>https://www.seamless.com/menu/ruchi-120-cedar-...</td>\n",
       "      <td>False</td>\n",
       "      <td>4b12cb6ff964a5204a8e23e3</td>\n",
       "      <td>120 Cedar St</td>\n",
       "      <td>...</td>\n",
       "      <td>590</td>\n",
       "      <td>[120 Cedar St (btwn Greenwich St. &amp; Trinity Pl...</td>\n",
       "      <td>[{'label': 'display', 'lat': 40.70996196046026...</td>\n",
       "      <td>40.709962</td>\n",
       "      <td>-74.012969</td>\n",
       "      <td>10006</td>\n",
       "      <td>NY</td>\n",
       "      <td>Ruchi Indian Cuisine</td>\n",
       "      <td>v-1557466853</td>\n",
       "      <td>337710444</td>\n",
       "    </tr>\n",
       "    <tr>\n",
       "      <th>2</th>\n",
       "      <td>[{'id': '4bf58dd8d48988d103951735', 'name': 'C...</td>\n",
       "      <td>NaN</td>\n",
       "      <td>NaN</td>\n",
       "      <td>NaN</td>\n",
       "      <td>NaN</td>\n",
       "      <td>NaN</td>\n",
       "      <td>NaN</td>\n",
       "      <td>False</td>\n",
       "      <td>574eab2a498e3f5530cfdbca</td>\n",
       "      <td>100 Church St</td>\n",
       "      <td>...</td>\n",
       "      <td>530</td>\n",
       "      <td>[100 Church St, New York, NY 10007, United Sta...</td>\n",
       "      <td>[{'label': 'display', 'lat': 40.71228057311295...</td>\n",
       "      <td>40.712281</td>\n",
       "      <td>-74.010129</td>\n",
       "      <td>10007</td>\n",
       "      <td>NY</td>\n",
       "      <td>Indian Beautiful Art (IBA) Crafts PVT Ltd</td>\n",
       "      <td>v-1557466853</td>\n",
       "      <td>NaN</td>\n",
       "    </tr>\n",
       "    <tr>\n",
       "      <th>3</th>\n",
       "      <td>[{'id': '4bf58dd8d48988d10f941735', 'name': 'I...</td>\n",
       "      <td>26275</td>\n",
       "      <td>/delivery_provider_seamless_20180129.png</td>\n",
       "      <td>https://fastly.4sqi.net/img/general/cap/</td>\n",
       "      <td>[40, 50]</td>\n",
       "      <td>seamless</td>\n",
       "      <td>https://www.seamless.com/menu/salaam-bombay-31...</td>\n",
       "      <td>False</td>\n",
       "      <td>4aef32f7f964a52081d621e3</td>\n",
       "      <td>317 Greenwich St</td>\n",
       "      <td>...</td>\n",
       "      <td>435</td>\n",
       "      <td>[317 Greenwich St (Reade St), New York, NY 100...</td>\n",
       "      <td>[{'label': 'display', 'lat': 40.71695381665769...</td>\n",
       "      <td>40.716954</td>\n",
       "      <td>-74.010905</td>\n",
       "      <td>10013</td>\n",
       "      <td>NY</td>\n",
       "      <td>Salaam Bombay</td>\n",
       "      <td>v-1557466853</td>\n",
       "      <td>71423083</td>\n",
       "    </tr>\n",
       "  </tbody>\n",
       "</table>\n",
       "<p>4 rows × 24 columns</p>\n",
       "</div>"
      ],
      "text/plain": [
       "                                          categories delivery.id  \\\n",
       "0  [{'id': '4bf58dd8d48988d1cb941735', 'name': 'F...         NaN   \n",
       "1  [{'id': '4bf58dd8d48988d10f941735', 'name': 'I...       79935   \n",
       "2  [{'id': '4bf58dd8d48988d103951735', 'name': 'C...         NaN   \n",
       "3  [{'id': '4bf58dd8d48988d10f941735', 'name': 'I...       26275   \n",
       "\n",
       "                delivery.provider.icon.name  \\\n",
       "0                                       NaN   \n",
       "1  /delivery_provider_seamless_20180129.png   \n",
       "2                                       NaN   \n",
       "3  /delivery_provider_seamless_20180129.png   \n",
       "\n",
       "              delivery.provider.icon.prefix delivery.provider.icon.sizes  \\\n",
       "0                                       NaN                          NaN   \n",
       "1  https://fastly.4sqi.net/img/general/cap/                     [40, 50]   \n",
       "2                                       NaN                          NaN   \n",
       "3  https://fastly.4sqi.net/img/general/cap/                     [40, 50]   \n",
       "\n",
       "  delivery.provider.name                                       delivery.url  \\\n",
       "0                    NaN                                                NaN   \n",
       "1               seamless  https://www.seamless.com/menu/ruchi-120-cedar-...   \n",
       "2                    NaN                                                NaN   \n",
       "3               seamless  https://www.seamless.com/menu/salaam-bombay-31...   \n",
       "\n",
       "   hasPerk                        id  location.address  ... location.distance  \\\n",
       "0    False  5072fe2eb0ed0fcce2497f30          Water St  ...               323   \n",
       "1    False  4b12cb6ff964a5204a8e23e3      120 Cedar St  ...               590   \n",
       "2    False  574eab2a498e3f5530cfdbca     100 Church St  ...               530   \n",
       "3    False  4aef32f7f964a52081d621e3  317 Greenwich St  ...               435   \n",
       "\n",
       "                           location.formattedAddress  \\\n",
       "0  [Water St (btwn Maiden Lane & Pine St), New Yo...   \n",
       "1  [120 Cedar St (btwn Greenwich St. & Trinity Pl...   \n",
       "2  [100 Church St, New York, NY 10007, United Sta...   \n",
       "3  [317 Greenwich St (Reade St), New York, NY 100...   \n",
       "\n",
       "                             location.labeledLatLngs location.lat  \\\n",
       "0  [{'label': 'display', 'lat': 40.71441853663672...    40.714419   \n",
       "1  [{'label': 'display', 'lat': 40.70996196046026...    40.709962   \n",
       "2  [{'label': 'display', 'lat': 40.71228057311295...    40.712281   \n",
       "3  [{'label': 'display', 'lat': 40.71695381665769...    40.716954   \n",
       "\n",
       "   location.lng location.postalCode location.state  \\\n",
       "0    -74.011573               10005             NY   \n",
       "1    -74.012969               10006             NY   \n",
       "2    -74.010129               10007             NY   \n",
       "3    -74.010905               10013             NY   \n",
       "\n",
       "                                        name    referralId venuePage.id  \n",
       "0             Indian Biryani Delights (Cart)  v-1557466853          NaN  \n",
       "1                       Ruchi Indian Cuisine  v-1557466853    337710444  \n",
       "2  Indian Beautiful Art (IBA) Crafts PVT Ltd  v-1557466853          NaN  \n",
       "3                              Salaam Bombay  v-1557466853     71423083  \n",
       "\n",
       "[4 rows x 24 columns]"
      ]
     },
     "execution_count": 10,
     "metadata": {},
     "output_type": "execute_result"
    }
   ],
   "source": [
    "# assign relevant part of JSON to venues\n",
    "venues = results['response']['venues']\n",
    "\n",
    "# tranform venues into a dataframe\n",
    "dataframe = json_normalize(venues)\n",
    "dataframe.head()"
   ]
  },
  {
   "cell_type": "markdown",
   "metadata": {
    "button": false,
    "new_sheet": false,
    "run_control": {
     "read_only": false
    }
   },
   "source": [
    "#### Define information of interest and filter dataframe"
   ]
  },
  {
   "cell_type": "code",
   "execution_count": 11,
   "metadata": {
    "button": false,
    "collapsed": false,
    "new_sheet": false,
    "run_control": {
     "read_only": false
    },
    "scrolled": true
   },
   "outputs": [
    {
     "data": {
      "text/html": [
       "<div>\n",
       "<style scoped>\n",
       "    .dataframe tbody tr th:only-of-type {\n",
       "        vertical-align: middle;\n",
       "    }\n",
       "\n",
       "    .dataframe tbody tr th {\n",
       "        vertical-align: top;\n",
       "    }\n",
       "\n",
       "    .dataframe thead th {\n",
       "        text-align: right;\n",
       "    }\n",
       "</style>\n",
       "<table border=\"1\" class=\"dataframe\">\n",
       "  <thead>\n",
       "    <tr style=\"text-align: right;\">\n",
       "      <th></th>\n",
       "      <th>name</th>\n",
       "      <th>categories</th>\n",
       "      <th>address</th>\n",
       "      <th>cc</th>\n",
       "      <th>city</th>\n",
       "      <th>country</th>\n",
       "      <th>crossStreet</th>\n",
       "      <th>distance</th>\n",
       "      <th>formattedAddress</th>\n",
       "      <th>labeledLatLngs</th>\n",
       "      <th>lat</th>\n",
       "      <th>lng</th>\n",
       "      <th>postalCode</th>\n",
       "      <th>state</th>\n",
       "      <th>id</th>\n",
       "    </tr>\n",
       "  </thead>\n",
       "  <tbody>\n",
       "    <tr>\n",
       "      <th>0</th>\n",
       "      <td>Indian Biryani Delights (Cart)</td>\n",
       "      <td>Food Truck</td>\n",
       "      <td>Water St</td>\n",
       "      <td>US</td>\n",
       "      <td>New York</td>\n",
       "      <td>United States</td>\n",
       "      <td>btwn Maiden Lane &amp; Pine St</td>\n",
       "      <td>323</td>\n",
       "      <td>[Water St (btwn Maiden Lane &amp; Pine St), New Yo...</td>\n",
       "      <td>[{'label': 'display', 'lat': 40.71441853663672...</td>\n",
       "      <td>40.714419</td>\n",
       "      <td>-74.011573</td>\n",
       "      <td>10005</td>\n",
       "      <td>NY</td>\n",
       "      <td>5072fe2eb0ed0fcce2497f30</td>\n",
       "    </tr>\n",
       "    <tr>\n",
       "      <th>1</th>\n",
       "      <td>Ruchi Indian Cuisine</td>\n",
       "      <td>Indian Restaurant</td>\n",
       "      <td>120 Cedar St</td>\n",
       "      <td>US</td>\n",
       "      <td>New York</td>\n",
       "      <td>United States</td>\n",
       "      <td>btwn Greenwich St. &amp; Trinity Pl.</td>\n",
       "      <td>590</td>\n",
       "      <td>[120 Cedar St (btwn Greenwich St. &amp; Trinity Pl...</td>\n",
       "      <td>[{'label': 'display', 'lat': 40.70996196046026...</td>\n",
       "      <td>40.709962</td>\n",
       "      <td>-74.012969</td>\n",
       "      <td>10006</td>\n",
       "      <td>NY</td>\n",
       "      <td>4b12cb6ff964a5204a8e23e3</td>\n",
       "    </tr>\n",
       "    <tr>\n",
       "      <th>2</th>\n",
       "      <td>Indian Beautiful Art (IBA) Crafts PVT Ltd</td>\n",
       "      <td>Clothing Store</td>\n",
       "      <td>100 Church St</td>\n",
       "      <td>US</td>\n",
       "      <td>New York</td>\n",
       "      <td>United States</td>\n",
       "      <td>NaN</td>\n",
       "      <td>530</td>\n",
       "      <td>[100 Church St, New York, NY 10007, United Sta...</td>\n",
       "      <td>[{'label': 'display', 'lat': 40.71228057311295...</td>\n",
       "      <td>40.712281</td>\n",
       "      <td>-74.010129</td>\n",
       "      <td>10007</td>\n",
       "      <td>NY</td>\n",
       "      <td>574eab2a498e3f5530cfdbca</td>\n",
       "    </tr>\n",
       "    <tr>\n",
       "      <th>3</th>\n",
       "      <td>Salaam Bombay</td>\n",
       "      <td>Indian Restaurant</td>\n",
       "      <td>317 Greenwich St</td>\n",
       "      <td>US</td>\n",
       "      <td>New York</td>\n",
       "      <td>United States</td>\n",
       "      <td>Reade St</td>\n",
       "      <td>435</td>\n",
       "      <td>[317 Greenwich St (Reade St), New York, NY 100...</td>\n",
       "      <td>[{'label': 'display', 'lat': 40.71695381665769...</td>\n",
       "      <td>40.716954</td>\n",
       "      <td>-74.010905</td>\n",
       "      <td>10013</td>\n",
       "      <td>NY</td>\n",
       "      <td>4aef32f7f964a52081d621e3</td>\n",
       "    </tr>\n",
       "  </tbody>\n",
       "</table>\n",
       "</div>"
      ],
      "text/plain": [
       "                                        name         categories  \\\n",
       "0             Indian Biryani Delights (Cart)         Food Truck   \n",
       "1                       Ruchi Indian Cuisine  Indian Restaurant   \n",
       "2  Indian Beautiful Art (IBA) Crafts PVT Ltd     Clothing Store   \n",
       "3                              Salaam Bombay  Indian Restaurant   \n",
       "\n",
       "            address  cc      city        country  \\\n",
       "0          Water St  US  New York  United States   \n",
       "1      120 Cedar St  US  New York  United States   \n",
       "2     100 Church St  US  New York  United States   \n",
       "3  317 Greenwich St  US  New York  United States   \n",
       "\n",
       "                        crossStreet  distance  \\\n",
       "0        btwn Maiden Lane & Pine St       323   \n",
       "1  btwn Greenwich St. & Trinity Pl.       590   \n",
       "2                               NaN       530   \n",
       "3                          Reade St       435   \n",
       "\n",
       "                                    formattedAddress  \\\n",
       "0  [Water St (btwn Maiden Lane & Pine St), New Yo...   \n",
       "1  [120 Cedar St (btwn Greenwich St. & Trinity Pl...   \n",
       "2  [100 Church St, New York, NY 10007, United Sta...   \n",
       "3  [317 Greenwich St (Reade St), New York, NY 100...   \n",
       "\n",
       "                                      labeledLatLngs        lat        lng  \\\n",
       "0  [{'label': 'display', 'lat': 40.71441853663672...  40.714419 -74.011573   \n",
       "1  [{'label': 'display', 'lat': 40.70996196046026...  40.709962 -74.012969   \n",
       "2  [{'label': 'display', 'lat': 40.71228057311295...  40.712281 -74.010129   \n",
       "3  [{'label': 'display', 'lat': 40.71695381665769...  40.716954 -74.010905   \n",
       "\n",
       "  postalCode state                        id  \n",
       "0      10005    NY  5072fe2eb0ed0fcce2497f30  \n",
       "1      10006    NY  4b12cb6ff964a5204a8e23e3  \n",
       "2      10007    NY  574eab2a498e3f5530cfdbca  \n",
       "3      10013    NY  4aef32f7f964a52081d621e3  "
      ]
     },
     "execution_count": 11,
     "metadata": {},
     "output_type": "execute_result"
    }
   ],
   "source": [
    "# keep only columns that include venue name, and anything that is associated with location\n",
    "filtered_columns = ['name', 'categories'] + [col for col in dataframe.columns if col.startswith('location.')] + ['id']\n",
    "dataframe_filtered = dataframe.loc[:, filtered_columns]\n",
    "\n",
    "# function that extracts the category of the venue\n",
    "def get_category_type(row):\n",
    "    try:\n",
    "        categories_list = row['categories']\n",
    "    except:\n",
    "        categories_list = row['venue.categories']\n",
    "        \n",
    "    if len(categories_list) == 0:\n",
    "        return None\n",
    "    else:\n",
    "        return categories_list[0]['name']\n",
    "\n",
    "# filter the category for each row\n",
    "dataframe_filtered['categories'] = dataframe_filtered.apply(get_category_type, axis=1)\n",
    "\n",
    "# clean column names by keeping only last term\n",
    "dataframe_filtered.columns = [column.split('.')[-1] for column in dataframe_filtered.columns]\n",
    "\n",
    "dataframe_filtered"
   ]
  },
  {
   "cell_type": "markdown",
   "metadata": {
    "button": false,
    "new_sheet": false,
    "run_control": {
     "read_only": false
    }
   },
   "source": [
    "#### Let's visualize the Indian restaurants that are nearby"
   ]
  },
  {
   "cell_type": "code",
   "execution_count": 12,
   "metadata": {
    "button": false,
    "collapsed": false,
    "new_sheet": false,
    "run_control": {
     "read_only": false
    }
   },
   "outputs": [
    {
     "data": {
      "text/plain": [
       "0               Indian Biryani Delights (Cart)\n",
       "1                         Ruchi Indian Cuisine\n",
       "2    Indian Beautiful Art (IBA) Crafts PVT Ltd\n",
       "3                                Salaam Bombay\n",
       "Name: name, dtype: object"
      ]
     },
     "execution_count": 12,
     "metadata": {},
     "output_type": "execute_result"
    }
   ],
   "source": [
    "dataframe_filtered.name"
   ]
  },
  {
   "cell_type": "code",
   "execution_count": 15,
   "metadata": {
    "button": false,
    "collapsed": false,
    "new_sheet": false,
    "run_control": {
     "read_only": false
    },
    "scrolled": false
   },
   "outputs": [
    {
     "data": {
      "text/html": [
       "<div style=\"width:100%;\"><div style=\"position:relative;width:100%;height:0;padding-bottom:60%;\"><iframe src=\"data:text/html;charset=utf-8;base64,PCFET0NUWVBFIGh0bWw+CjxoZWFkPiAgICAKICAgIDxtZXRhIGh0dHAtZXF1aXY9ImNvbnRlbnQtdHlwZSIgY29udGVudD0idGV4dC9odG1sOyBjaGFyc2V0PVVURi04IiAvPgogICAgPHNjcmlwdD5MX1BSRUZFUl9DQU5WQVMgPSBmYWxzZTsgTF9OT19UT1VDSCA9IGZhbHNlOyBMX0RJU0FCTEVfM0QgPSBmYWxzZTs8L3NjcmlwdD4KICAgIDxzY3JpcHQgc3JjPSJodHRwczovL2Nkbi5qc2RlbGl2ci5uZXQvbnBtL2xlYWZsZXRAMS4yLjAvZGlzdC9sZWFmbGV0LmpzIj48L3NjcmlwdD4KICAgIDxzY3JpcHQgc3JjPSJodHRwczovL2FqYXguZ29vZ2xlYXBpcy5jb20vYWpheC9saWJzL2pxdWVyeS8xLjExLjEvanF1ZXJ5Lm1pbi5qcyI+PC9zY3JpcHQ+CiAgICA8c2NyaXB0IHNyYz0iaHR0cHM6Ly9tYXhjZG4uYm9vdHN0cmFwY2RuLmNvbS9ib290c3RyYXAvMy4yLjAvanMvYm9vdHN0cmFwLm1pbi5qcyI+PC9zY3JpcHQ+CiAgICA8c2NyaXB0IHNyYz0iaHR0cHM6Ly9jZG5qcy5jbG91ZGZsYXJlLmNvbS9hamF4L2xpYnMvTGVhZmxldC5hd2Vzb21lLW1hcmtlcnMvMi4wLjIvbGVhZmxldC5hd2Vzb21lLW1hcmtlcnMuanMiPjwvc2NyaXB0PgogICAgPGxpbmsgcmVsPSJzdHlsZXNoZWV0IiBocmVmPSJodHRwczovL2Nkbi5qc2RlbGl2ci5uZXQvbnBtL2xlYWZsZXRAMS4yLjAvZGlzdC9sZWFmbGV0LmNzcyIvPgogICAgPGxpbmsgcmVsPSJzdHlsZXNoZWV0IiBocmVmPSJodHRwczovL21heGNkbi5ib290c3RyYXBjZG4uY29tL2Jvb3RzdHJhcC8zLjIuMC9jc3MvYm9vdHN0cmFwLm1pbi5jc3MiLz4KICAgIDxsaW5rIHJlbD0ic3R5bGVzaGVldCIgaHJlZj0iaHR0cHM6Ly9tYXhjZG4uYm9vdHN0cmFwY2RuLmNvbS9ib290c3RyYXAvMy4yLjAvY3NzL2Jvb3RzdHJhcC10aGVtZS5taW4uY3NzIi8+CiAgICA8bGluayByZWw9InN0eWxlc2hlZXQiIGhyZWY9Imh0dHBzOi8vbWF4Y2RuLmJvb3RzdHJhcGNkbi5jb20vZm9udC1hd2Vzb21lLzQuNi4zL2Nzcy9mb250LWF3ZXNvbWUubWluLmNzcyIvPgogICAgPGxpbmsgcmVsPSJzdHlsZXNoZWV0IiBocmVmPSJodHRwczovL2NkbmpzLmNsb3VkZmxhcmUuY29tL2FqYXgvbGlicy9MZWFmbGV0LmF3ZXNvbWUtbWFya2Vycy8yLjAuMi9sZWFmbGV0LmF3ZXNvbWUtbWFya2Vycy5jc3MiLz4KICAgIDxsaW5rIHJlbD0ic3R5bGVzaGVldCIgaHJlZj0iaHR0cHM6Ly9yYXdnaXQuY29tL3B5dGhvbi12aXN1YWxpemF0aW9uL2ZvbGl1bS9tYXN0ZXIvZm9saXVtL3RlbXBsYXRlcy9sZWFmbGV0LmF3ZXNvbWUucm90YXRlLmNzcyIvPgogICAgPHN0eWxlPmh0bWwsIGJvZHkge3dpZHRoOiAxMDAlO2hlaWdodDogMTAwJTttYXJnaW46IDA7cGFkZGluZzogMDt9PC9zdHlsZT4KICAgIDxzdHlsZT4jbWFwIHtwb3NpdGlvbjphYnNvbHV0ZTt0b3A6MDtib3R0b206MDtyaWdodDowO2xlZnQ6MDt9PC9zdHlsZT4KICAgIAogICAgICAgICAgICA8c3R5bGU+ICNtYXBfMGEyMmU5YzE1MGZmNDRjN2I2ZDQ5NzY4MmU4ZWMwMjggewogICAgICAgICAgICAgICAgcG9zaXRpb24gOiByZWxhdGl2ZTsKICAgICAgICAgICAgICAgIHdpZHRoIDogMTAwLjAlOwogICAgICAgICAgICAgICAgaGVpZ2h0OiAxMDAuMCU7CiAgICAgICAgICAgICAgICBsZWZ0OiAwLjAlOwogICAgICAgICAgICAgICAgdG9wOiAwLjAlOwogICAgICAgICAgICAgICAgfQogICAgICAgICAgICA8L3N0eWxlPgogICAgICAgIAo8L2hlYWQ+Cjxib2R5PiAgICAKICAgIAogICAgICAgICAgICA8ZGl2IGNsYXNzPSJmb2xpdW0tbWFwIiBpZD0ibWFwXzBhMjJlOWMxNTBmZjQ0YzdiNmQ0OTc2ODJlOGVjMDI4IiA+PC9kaXY+CiAgICAgICAgCjwvYm9keT4KPHNjcmlwdD4gICAgCiAgICAKCiAgICAgICAgICAgIAogICAgICAgICAgICAgICAgdmFyIGJvdW5kcyA9IG51bGw7CiAgICAgICAgICAgIAoKICAgICAgICAgICAgdmFyIG1hcF8wYTIyZTljMTUwZmY0NGM3YjZkNDk3NjgyZThlYzAyOCA9IEwubWFwKAogICAgICAgICAgICAgICAgICAgICAgICAgICAgICAgICAgJ21hcF8wYTIyZTljMTUwZmY0NGM3YjZkNDk3NjgyZThlYzAyOCcsCiAgICAgICAgICAgICAgICAgICAgICAgICAgICAgICAgICB7Y2VudGVyOiBbNDAuNzE0OTU1NSwtNzQuMDE1MzM2NV0sCiAgICAgICAgICAgICAgICAgICAgICAgICAgICAgICAgICB6b29tOiAxMywKICAgICAgICAgICAgICAgICAgICAgICAgICAgICAgICAgIG1heEJvdW5kczogYm91bmRzLAogICAgICAgICAgICAgICAgICAgICAgICAgICAgICAgICAgbGF5ZXJzOiBbXSwKICAgICAgICAgICAgICAgICAgICAgICAgICAgICAgICAgIHdvcmxkQ29weUp1bXA6IGZhbHNlLAogICAgICAgICAgICAgICAgICAgICAgICAgICAgICAgICAgY3JzOiBMLkNSUy5FUFNHMzg1NwogICAgICAgICAgICAgICAgICAgICAgICAgICAgICAgICB9KTsKICAgICAgICAgICAgCiAgICAgICAgCiAgICAKICAgICAgICAgICAgdmFyIHRpbGVfbGF5ZXJfZWNkYzlhMTExMTVhNDg3NWIxMzMwNWY0Y2UwNmQxMmYgPSBMLnRpbGVMYXllcigKICAgICAgICAgICAgICAgICdodHRwczovL3tzfS50aWxlLm9wZW5zdHJlZXRtYXAub3JnL3t6fS97eH0ve3l9LnBuZycsCiAgICAgICAgICAgICAgICB7CiAgImF0dHJpYnV0aW9uIjogbnVsbCwKICAiZGV0ZWN0UmV0aW5hIjogZmFsc2UsCiAgIm1heFpvb20iOiAxOCwKICAibWluWm9vbSI6IDEsCiAgIm5vV3JhcCI6IGZhbHNlLAogICJzdWJkb21haW5zIjogImFiYyIKfQogICAgICAgICAgICAgICAgKS5hZGRUbyhtYXBfMGEyMmU5YzE1MGZmNDRjN2I2ZDQ5NzY4MmU4ZWMwMjgpOwogICAgICAgIAogICAgCiAgICAgICAgICAgIHZhciBjaXJjbGVfbWFya2VyX2U1ZGU5MTZkYzFjODRiYzc4OThlNGM0YzI0ZmUxNDExID0gTC5jaXJjbGVNYXJrZXIoCiAgICAgICAgICAgICAgICBbNDAuNzE0OTU1NSwtNzQuMDE1MzM2NV0sCiAgICAgICAgICAgICAgICB7CiAgImJ1YmJsaW5nTW91c2VFdmVudHMiOiB0cnVlLAogICJjb2xvciI6ICJyZWQiLAogICJkYXNoQXJyYXkiOiBudWxsLAogICJkYXNoT2Zmc2V0IjogbnVsbCwKICAiZmlsbCI6IHRydWUsCiAgImZpbGxDb2xvciI6ICJyZWQiLAogICJmaWxsT3BhY2l0eSI6IDAuNiwKICAiZmlsbFJ1bGUiOiAiZXZlbm9kZCIsCiAgImxpbmVDYXAiOiAicm91bmQiLAogICJsaW5lSm9pbiI6ICJyb3VuZCIsCiAgIm9wYWNpdHkiOiAxLjAsCiAgInJhZGl1cyI6IDEwLAogICJzdHJva2UiOiB0cnVlLAogICJ3ZWlnaHQiOiAzCn0KICAgICAgICAgICAgICAgICkuYWRkVG8obWFwXzBhMjJlOWMxNTBmZjQ0YzdiNmQ0OTc2ODJlOGVjMDI4KTsKICAgICAgICAgICAgCiAgICAKICAgICAgICAgICAgdmFyIHBvcHVwXzIyY2I5NjVlMDg2ZjRhMTQ5NjUwNTRhMTdhYThjZjQxID0gTC5wb3B1cCh7bWF4V2lkdGg6ICczMDAnfSk7CgogICAgICAgICAgICAKICAgICAgICAgICAgICAgIHZhciBodG1sX2MwNWMzMGIzMjA0ODRmMGE4NzA3Yzk1ODkyOWRmMGNiID0gJCgnPGRpdiBpZD0iaHRtbF9jMDVjMzBiMzIwNDg0ZjBhODcwN2M5NTg5MjlkZjBjYiIgc3R5bGU9IndpZHRoOiAxMDAuMCU7IGhlaWdodDogMTAwLjAlOyI+MTAyIE5vcnRoIEVuZCBBdmUsIE5ldyBZb3JrLCBOWTwvZGl2PicpWzBdOwogICAgICAgICAgICAgICAgcG9wdXBfMjJjYjk2NWUwODZmNGExNDk2NTA1NGExN2FhOGNmNDEuc2V0Q29udGVudChodG1sX2MwNWMzMGIzMjA0ODRmMGE4NzA3Yzk1ODkyOWRmMGNiKTsKICAgICAgICAgICAgCgogICAgICAgICAgICBjaXJjbGVfbWFya2VyX2U1ZGU5MTZkYzFjODRiYzc4OThlNGM0YzI0ZmUxNDExLmJpbmRQb3B1cChwb3B1cF8yMmNiOTY1ZTA4NmY0YTE0OTY1MDU0YTE3YWE4Y2Y0MSk7CgogICAgICAgICAgICAKICAgICAgICAKICAgIAogICAgICAgICAgICB2YXIgY2lyY2xlX21hcmtlcl84NjAxMzI2OGQ0MWU0NTAzYjQyYTEwYmI4OGE1YzIwYyA9IEwuY2lyY2xlTWFya2VyKAogICAgICAgICAgICAgICAgWzQwLjcxNDQxODUzNjYzNjcyLC03NC4wMTE1NzMxNDQ0ODkwOF0sCiAgICAgICAgICAgICAgICB7CiAgImJ1YmJsaW5nTW91c2VFdmVudHMiOiB0cnVlLAogICJjb2xvciI6ICJibHVlIiwKICAiZGFzaEFycmF5IjogbnVsbCwKICAiZGFzaE9mZnNldCI6IG51bGwsCiAgImZpbGwiOiB0cnVlLAogICJmaWxsQ29sb3IiOiAiYmx1ZSIsCiAgImZpbGxPcGFjaXR5IjogMC42LAogICJmaWxsUnVsZSI6ICJldmVub2RkIiwKICAibGluZUNhcCI6ICJyb3VuZCIsCiAgImxpbmVKb2luIjogInJvdW5kIiwKICAib3BhY2l0eSI6IDEuMCwKICAicmFkaXVzIjogNSwKICAic3Ryb2tlIjogdHJ1ZSwKICAid2VpZ2h0IjogMwp9CiAgICAgICAgICAgICAgICApLmFkZFRvKG1hcF8wYTIyZTljMTUwZmY0NGM3YjZkNDk3NjgyZThlYzAyOCk7CiAgICAgICAgICAgIAogICAgCiAgICAgICAgICAgIHZhciBwb3B1cF80MzY3MzlmZGM5ZjE0N2FmOGRmNTVjN2Q1NzRmNWY1MCA9IEwucG9wdXAoe21heFdpZHRoOiAnMzAwJ30pOwoKICAgICAgICAgICAgCiAgICAgICAgICAgICAgICB2YXIgaHRtbF9jZWU2ZGY2YzFkMDY0ZWI0OTY3ZWQ2Yzc4NGFkYzU5YSA9ICQoJzxkaXYgaWQ9Imh0bWxfY2VlNmRmNmMxZDA2NGViNDk2N2VkNmM3ODRhZGM1OWEiIHN0eWxlPSJ3aWR0aDogMTAwLjAlOyBoZWlnaHQ6IDEwMC4wJTsiPkZvb2QgVHJ1Y2s8L2Rpdj4nKVswXTsKICAgICAgICAgICAgICAgIHBvcHVwXzQzNjczOWZkYzlmMTQ3YWY4ZGY1NWM3ZDU3NGY1ZjUwLnNldENvbnRlbnQoaHRtbF9jZWU2ZGY2YzFkMDY0ZWI0OTY3ZWQ2Yzc4NGFkYzU5YSk7CiAgICAgICAgICAgIAoKICAgICAgICAgICAgY2lyY2xlX21hcmtlcl84NjAxMzI2OGQ0MWU0NTAzYjQyYTEwYmI4OGE1YzIwYy5iaW5kUG9wdXAocG9wdXBfNDM2NzM5ZmRjOWYxNDdhZjhkZjU1YzdkNTc0ZjVmNTApOwoKICAgICAgICAgICAgCiAgICAgICAgCiAgICAKICAgICAgICAgICAgdmFyIGNpcmNsZV9tYXJrZXJfNmRjM2MyMGVhYjkxNDYyNGE4ZTVjZDhjOTRjM2FkODcgPSBMLmNpcmNsZU1hcmtlcigKICAgICAgICAgICAgICAgIFs0MC43MDk5NjE5NjA0NjAyNiwtNzQuMDEyOTY5MzUwNDIyMzRdLAogICAgICAgICAgICAgICAgewogICJidWJibGluZ01vdXNlRXZlbnRzIjogdHJ1ZSwKICAiY29sb3IiOiAiYmx1ZSIsCiAgImRhc2hBcnJheSI6IG51bGwsCiAgImRhc2hPZmZzZXQiOiBudWxsLAogICJmaWxsIjogdHJ1ZSwKICAiZmlsbENvbG9yIjogImJsdWUiLAogICJmaWxsT3BhY2l0eSI6IDAuNiwKICAiZmlsbFJ1bGUiOiAiZXZlbm9kZCIsCiAgImxpbmVDYXAiOiAicm91bmQiLAogICJsaW5lSm9pbiI6ICJyb3VuZCIsCiAgIm9wYWNpdHkiOiAxLjAsCiAgInJhZGl1cyI6IDUsCiAgInN0cm9rZSI6IHRydWUsCiAgIndlaWdodCI6IDMKfQogICAgICAgICAgICAgICAgKS5hZGRUbyhtYXBfMGEyMmU5YzE1MGZmNDRjN2I2ZDQ5NzY4MmU4ZWMwMjgpOwogICAgICAgICAgICAKICAgIAogICAgICAgICAgICB2YXIgcG9wdXBfYTgwZTI3ODE1ZTQzNGM2NThjYzg1ZDg1MmU1NTMyMjUgPSBMLnBvcHVwKHttYXhXaWR0aDogJzMwMCd9KTsKCiAgICAgICAgICAgIAogICAgICAgICAgICAgICAgdmFyIGh0bWxfODU2NDIzYWYzMGFhNDc3NmE2ZWVmYzkyMTc1YzBhNTUgPSAkKCc8ZGl2IGlkPSJodG1sXzg1NjQyM2FmMzBhYTQ3NzZhNmVlZmM5MjE3NWMwYTU1IiBzdHlsZT0id2lkdGg6IDEwMC4wJTsgaGVpZ2h0OiAxMDAuMCU7Ij5JbmRpYW4gUmVzdGF1cmFudDwvZGl2PicpWzBdOwogICAgICAgICAgICAgICAgcG9wdXBfYTgwZTI3ODE1ZTQzNGM2NThjYzg1ZDg1MmU1NTMyMjUuc2V0Q29udGVudChodG1sXzg1NjQyM2FmMzBhYTQ3NzZhNmVlZmM5MjE3NWMwYTU1KTsKICAgICAgICAgICAgCgogICAgICAgICAgICBjaXJjbGVfbWFya2VyXzZkYzNjMjBlYWI5MTQ2MjRhOGU1Y2Q4Yzk0YzNhZDg3LmJpbmRQb3B1cChwb3B1cF9hODBlMjc4MTVlNDM0YzY1OGNjODVkODUyZTU1MzIyNSk7CgogICAgICAgICAgICAKICAgICAgICAKICAgIAogICAgICAgICAgICB2YXIgY2lyY2xlX21hcmtlcl85MWFiYmQwNjA2OWM0MWY2YWRlYTNlNTIyNGIyYTI0NSA9IEwuY2lyY2xlTWFya2VyKAogICAgICAgICAgICAgICAgWzQwLjcxMjI4MDU3MzExMjk1LC03NC4wMTAxMjg5NzQ5MTQ1NV0sCiAgICAgICAgICAgICAgICB7CiAgImJ1YmJsaW5nTW91c2VFdmVudHMiOiB0cnVlLAogICJjb2xvciI6ICJibHVlIiwKICAiZGFzaEFycmF5IjogbnVsbCwKICAiZGFzaE9mZnNldCI6IG51bGwsCiAgImZpbGwiOiB0cnVlLAogICJmaWxsQ29sb3IiOiAiYmx1ZSIsCiAgImZpbGxPcGFjaXR5IjogMC42LAogICJmaWxsUnVsZSI6ICJldmVub2RkIiwKICAibGluZUNhcCI6ICJyb3VuZCIsCiAgImxpbmVKb2luIjogInJvdW5kIiwKICAib3BhY2l0eSI6IDEuMCwKICAicmFkaXVzIjogNSwKICAic3Ryb2tlIjogdHJ1ZSwKICAid2VpZ2h0IjogMwp9CiAgICAgICAgICAgICAgICApLmFkZFRvKG1hcF8wYTIyZTljMTUwZmY0NGM3YjZkNDk3NjgyZThlYzAyOCk7CiAgICAgICAgICAgIAogICAgCiAgICAgICAgICAgIHZhciBwb3B1cF80Yzc2MWFkYWVjNjQ0Mjc5OTQ1ZTAyOTk5ZTU0NzZmZCA9IEwucG9wdXAoe21heFdpZHRoOiAnMzAwJ30pOwoKICAgICAgICAgICAgCiAgICAgICAgICAgICAgICB2YXIgaHRtbF84NmY5NmM5M2JlNzY0MWIyYjg2ODIzMTYxMjkzZjA0NiA9ICQoJzxkaXYgaWQ9Imh0bWxfODZmOTZjOTNiZTc2NDFiMmI4NjgyMzE2MTI5M2YwNDYiIHN0eWxlPSJ3aWR0aDogMTAwLjAlOyBoZWlnaHQ6IDEwMC4wJTsiPkNsb3RoaW5nIFN0b3JlPC9kaXY+JylbMF07CiAgICAgICAgICAgICAgICBwb3B1cF80Yzc2MWFkYWVjNjQ0Mjc5OTQ1ZTAyOTk5ZTU0NzZmZC5zZXRDb250ZW50KGh0bWxfODZmOTZjOTNiZTc2NDFiMmI4NjgyMzE2MTI5M2YwNDYpOwogICAgICAgICAgICAKCiAgICAgICAgICAgIGNpcmNsZV9tYXJrZXJfOTFhYmJkMDYwNjljNDFmNmFkZWEzZTUyMjRiMmEyNDUuYmluZFBvcHVwKHBvcHVwXzRjNzYxYWRhZWM2NDQyNzk5NDVlMDI5OTllNTQ3NmZkKTsKCiAgICAgICAgICAgIAogICAgICAgIAogICAgCiAgICAgICAgICAgIHZhciBjaXJjbGVfbWFya2VyX2ZjYTNiY2VlZThhZTRhYTFiYTFmMzk5OGUwYjljOTI4ID0gTC5jaXJjbGVNYXJrZXIoCiAgICAgICAgICAgICAgICBbNDAuNzE2OTUzODE2NjU3NjksLTc0LjAxMDkwNTA5NjYxNDMyXSwKICAgICAgICAgICAgICAgIHsKICAiYnViYmxpbmdNb3VzZUV2ZW50cyI6IHRydWUsCiAgImNvbG9yIjogImJsdWUiLAogICJkYXNoQXJyYXkiOiBudWxsLAogICJkYXNoT2Zmc2V0IjogbnVsbCwKICAiZmlsbCI6IHRydWUsCiAgImZpbGxDb2xvciI6ICJibHVlIiwKICAiZmlsbE9wYWNpdHkiOiAwLjYsCiAgImZpbGxSdWxlIjogImV2ZW5vZGQiLAogICJsaW5lQ2FwIjogInJvdW5kIiwKICAibGluZUpvaW4iOiAicm91bmQiLAogICJvcGFjaXR5IjogMS4wLAogICJyYWRpdXMiOiA1LAogICJzdHJva2UiOiB0cnVlLAogICJ3ZWlnaHQiOiAzCn0KICAgICAgICAgICAgICAgICkuYWRkVG8obWFwXzBhMjJlOWMxNTBmZjQ0YzdiNmQ0OTc2ODJlOGVjMDI4KTsKICAgICAgICAgICAgCiAgICAKICAgICAgICAgICAgdmFyIHBvcHVwXzMwNDllZTFkMDM3ZDRlZWQ4ZWU3YThiNmQ1NDI2ZGI3ID0gTC5wb3B1cCh7bWF4V2lkdGg6ICczMDAnfSk7CgogICAgICAgICAgICAKICAgICAgICAgICAgICAgIHZhciBodG1sX2ZlNDRjNjAyOTRlZDRkYmNiMTE5NDVmMDg4ZGU1NDBlID0gJCgnPGRpdiBpZD0iaHRtbF9mZTQ0YzYwMjk0ZWQ0ZGJjYjExOTQ1ZjA4OGRlNTQwZSIgc3R5bGU9IndpZHRoOiAxMDAuMCU7IGhlaWdodDogMTAwLjAlOyI+SW5kaWFuIFJlc3RhdXJhbnQ8L2Rpdj4nKVswXTsKICAgICAgICAgICAgICAgIHBvcHVwXzMwNDllZTFkMDM3ZDRlZWQ4ZWU3YThiNmQ1NDI2ZGI3LnNldENvbnRlbnQoaHRtbF9mZTQ0YzYwMjk0ZWQ0ZGJjYjExOTQ1ZjA4OGRlNTQwZSk7CiAgICAgICAgICAgIAoKICAgICAgICAgICAgY2lyY2xlX21hcmtlcl9mY2EzYmNlZWU4YWU0YWExYmExZjM5OThlMGI5YzkyOC5iaW5kUG9wdXAocG9wdXBfMzA0OWVlMWQwMzdkNGVlZDhlZTdhOGI2ZDU0MjZkYjcpOwoKICAgICAgICAgICAgCiAgICAgICAgCjwvc2NyaXB0Pg==\" style=\"position:absolute;width:100%;height:100%;left:0;top:0;border:none !important;\" allowfullscreen webkitallowfullscreen mozallowfullscreen></iframe></div></div>"
      ],
      "text/plain": [
       "<folium.folium.Map at 0x7f4ace464048>"
      ]
     },
     "execution_count": 15,
     "metadata": {},
     "output_type": "execute_result"
    }
   ],
   "source": [
    "venues_map = folium.Map(location=[latitude, longitude], zoom_start=13) # generate map centred around the Conrad Hotel\n",
    "\n",
    "# add a red circle marker to represent the Conrad Hotel\n",
    "folium.features.CircleMarker(\n",
    "    [latitude, longitude],\n",
    "    radius=10,\n",
    "    color='red',\n",
    "    popup='102 North End Ave, New York, NY',\n",
    "    fill = True,\n",
    "    fill_color = 'red',\n",
    "    fill_opacity = 0.6\n",
    ").add_to(venues_map)\n",
    "\n",
    "# add the Italian restaurants as blue circle markers\n",
    "for lat, lng, label in zip(dataframe_filtered.lat, dataframe_filtered.lng, dataframe_filtered.categories):\n",
    "    folium.features.CircleMarker(\n",
    "        [lat, lng],\n",
    "        radius=5,\n",
    "        color='blue',\n",
    "        popup=label,\n",
    "        fill = True,\n",
    "        fill_color='blue',\n",
    "        fill_opacity=0.6\n",
    "    ).add_to(venues_map)\n",
    "\n",
    "# display map\n",
    "venues_map"
   ]
  },
  {
   "cell_type": "markdown",
   "metadata": {},
   "source": [
    "## Analysis from the above map shows that there is already one Indian restaurant at Murray Street and No Indian Restaurants at \"102 North End Ave in Newyork\"  \n",
    "1.Indian Biryani Delights (Cart) Food Truck near Murray Street(refer blue point in the above Map near Murray Street)\n"
   ]
  },
  {
   "cell_type": "markdown",
   "metadata": {},
   "source": [
    "## Solution : So, its a Wise Decision to start a New Indian Restaurant near \"102 North End Ave in Newyork\" rather than at Murray Street in NewYork."
   ]
  },
  {
   "cell_type": "code",
   "execution_count": null,
   "metadata": {},
   "outputs": [],
   "source": []
  },
  {
   "cell_type": "code",
   "execution_count": null,
   "metadata": {},
   "outputs": [],
   "source": []
  },
  {
   "cell_type": "code",
   "execution_count": null,
   "metadata": {},
   "outputs": [],
   "source": []
  },
  {
   "cell_type": "code",
   "execution_count": null,
   "metadata": {},
   "outputs": [],
   "source": []
  },
  {
   "cell_type": "code",
   "execution_count": null,
   "metadata": {},
   "outputs": [],
   "source": []
  },
  {
   "cell_type": "markdown",
   "metadata": {
    "button": false,
    "new_sheet": false,
    "run_control": {
     "read_only": false
    }
   },
   "source": [
    "   "
   ]
  },
  {
   "cell_type": "markdown",
   "metadata": {
    "button": false,
    "new_sheet": false,
    "run_control": {
     "read_only": false
    }
   },
   "source": [
    "<a id=\"item2\"></a>"
   ]
  }
 ],
 "metadata": {
  "kernelspec": {
   "display_name": "Python 3",
   "language": "python",
   "name": "python3"
  },
  "language_info": {
   "codemirror_mode": {
    "name": "ipython",
    "version": 3
   },
   "file_extension": ".py",
   "mimetype": "text/x-python",
   "name": "python",
   "nbconvert_exporter": "python",
   "pygments_lexer": "ipython3",
   "version": "3.6.8"
  }
 },
 "nbformat": 4,
 "nbformat_minor": 2
}
